{
 "cells": [
  {
   "cell_type": "code",
   "execution_count": null,
   "metadata": {},
   "outputs": [],
   "source": [
    "from urllib.parse import quote_plus\n",
    "import mysql.connector\n",
    "from sqlalchemy import create_engine"
   ]
  },
  {
   "cell_type": "code",
   "execution_count": null,
   "metadata": {},
   "outputs": [],
   "source": [
    "def connection(hostname, username, password, dbname):\n",
    "    con = None\n",
    "    password = quote_plus(password)\n",
    "    try:\n",
    "        con = mysql.connector.connect(hostname,username,password,dbname)\n",
    "        print(\"Connection successful!\")\n",
    "    except Error as e:\n",
    "        print(f\"The error {e} has occured.\")\n",
    "    return con\n",
    "\n",
    "def engine(hostname, username, password, dbname, port):\n",
    "    eng = create_engine(f'mysql+pymysql://{username}:{password}@{hostname}:{port}/{dbname}')\n",
    "    return eng"
   ]
  }
 ],
 "metadata": {
  "kernelspec": {
   "display_name": "myenv",
   "language": "python",
   "name": "python3"
  },
  "language_info": {
   "name": "python",
   "version": "3.10.14"
  }
 },
 "nbformat": 4,
 "nbformat_minor": 2
}
